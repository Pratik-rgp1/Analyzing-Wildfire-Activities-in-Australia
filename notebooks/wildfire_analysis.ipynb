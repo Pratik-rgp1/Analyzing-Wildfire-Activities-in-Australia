{
 "cells": [
  {
   "cell_type": "code",
   "execution_count": null,
   "id": "088cd649-2ae0-4d7d-921e-ee3f77b2f11d",
   "metadata": {},
   "outputs": [],
   "source": [
    "#!pip install folium"
   ]
  },
  {
   "cell_type": "code",
   "execution_count": null,
   "id": "86a26991-bcad-4992-ab35-a38b14181b90",
   "metadata": {},
   "outputs": [],
   "source": [
    "#Importing Required Libraries\n",
    "import numpy as np\n",
    "import pandas as pd\n",
    "import matplotlib.pyplot as plt\n",
    "import seaborn as sns\n",
    "import folium\n",
    "%matplotlib inline"
   ]
  },
  {
   "cell_type": "code",
   "execution_count": null,
   "id": "350fc80a-f296-40d0-b6de-5979df4bf891",
   "metadata": {},
   "outputs": [],
   "source": [
    "df = pd.read_csv(\"../data/australia_wildfire.csv\")\n",
    "print('Data read into a pandas dataframe!')"
   ]
  },
  {
   "cell_type": "code",
   "execution_count": null,
   "id": "474b3a96-ca24-4b28-b223-20737f9dec18",
   "metadata": {},
   "outputs": [],
   "source": [
    "# Display column names of the dataframe\n",
    "df.columns\n",
    "\n",
    "# Check the data types of each column in the dataframe\n",
    "df.dtypes\n",
    "\n",
    "# Convert the 'Date' column to datetime format\n",
    "df['Date'] = pd.to_datetime(df['Date'])\n",
    "\n",
    "# Extract year from the 'Date' column and store it in a new column named 'Year'\n",
    "df['Year'] = df['Date'].dt.year\n",
    "\n",
    "# Extract month from the 'Date' column and store it in a new column named 'Month'\n",
    "df['Month'] = df['Date'].dt.month\n",
    "\n",
    "# Verify the updated data types after adding new columns\n",
    "df.dtypes\n"
   ]
  },
  {
   "cell_type": "markdown",
   "id": "2af8f64a-da3a-453a-8bc5-aebb5ae47217",
   "metadata": {},
   "source": [
    "# Analyze Change in Average Estimated Fire Area Over Time"
   ]
  },
  {
   "cell_type": "code",
   "execution_count": null,
   "id": "c5313d99-0884-4044-b9f1-ff3fa627f294",
   "metadata": {},
   "outputs": [],
   "source": [
    "# Set the figure size for better visibility\n",
    "plt.figure(figsize=(12, 6))\n",
    "\n",
    "# Group the dataframe 'df' by the 'Year' column,\n",
    "# then calculate the mean of the 'Estimated_fire_area' for each year\n",
    "df_new = df.groupby('Year')['Estimated_fire_area'].mean()\n",
    "\n",
    "# Plot the resulting series as a line graph,\n",
    "# where the x-axis is the Year and y-axis is the average estimated fire area\n",
    "df_new.plot(x=df_new.index, y=df_new.values)\n",
    "\n",
    "# Label the x-axis\n",
    "plt.xlabel('Year')\n",
    "\n",
    "# Label the y-axis\n",
    "plt.ylabel('Average Estimated Fire Area (km²)')\n",
    "\n",
    "# Add a descriptive title to the plot\n",
    "plt.title('Estimated Fire Area over Time')\n",
    "\n",
    "# Display the plot\n",
    "plt.show()\n"
   ]
  },
  {
   "cell_type": "markdown",
   "id": "3e5d5896-488e-49da-abff-e56110b237a0",
   "metadata": {},
   "source": [
    "# Analyze Estimated Fire Area Grouped by Year and Month"
   ]
  },
  {
   "cell_type": "code",
   "execution_count": null,
   "id": "9caab0f6-1cb7-4905-8f52-0ab1c356d068",
   "metadata": {},
   "outputs": [],
   "source": [
    "\n",
    "import matplotlib.pyplot as plt\n",
    "\n",
    "# Group the dataframe by both 'Year' and 'Month',\n",
    "# then calculate the mean 'Estimated_fire_area' for each year-month combination\n",
    "df_new = df.groupby(['Year', 'Month'])['Estimated_fire_area'].mean()\n",
    "\n",
    "# Plot the resulting series as a line graph\n",
    "df_new.plot(x=df_new.index, y=df_new.values)\n",
    "\n",
    "# Label the x-axis with combined Year and Month\n",
    "plt.xlabel('Year, Month')\n",
    "\n",
    "# Label the y-axis with average estimated fire area in square kilometers\n",
    "plt.ylabel('Average Estimated Fire Area (km²)')\n",
    "\n",
    "# Add a descriptive title to the plot\n",
    "plt.title('Estimated Fire Area Over Time by Year and Month')\n",
    "\n",
    "# Display the plot\n",
    "plt.show()\n"
   ]
  },
  {
   "cell_type": "markdown",
   "id": "09723342-58ce-47dd-9bec-b55cc1b4fd28",
   "metadata": {},
   "source": [
    "# Distribution of Mean Estimated Fire Brightness Across Regions"
   ]
  },
  {
   "cell_type": "code",
   "execution_count": null,
   "id": "ae8f2119-5f28-4a6e-9b82-06b0a6db3a4d",
   "metadata": {},
   "outputs": [],
   "source": [
    "\n",
    "import seaborn as sns\n",
    "import matplotlib.pyplot as plt\n",
    "\n",
    "# First, check the unique regions in the dataset\n",
    "print(\"Regions in the dataset:\", df['Region'].unique())\n",
    "\n",
    "# Set the figure size for better visibility\n",
    "plt.figure(figsize=(10, 6))\n",
    "\n",
    "# Create a barplot using seaborn to show the average fire brightness by region\n",
    "sns.barplot(data=df, x='Region', y='Mean_estimated_fire_brightness')\n",
    "\n",
    "# Label the x-axis as Region\n",
    "plt.xlabel('Region')\n",
    "\n",
    "# Label the y-axis as Mean Estimated Fire Brightness in Kelvin\n",
    "plt.ylabel('Mean Estimated Fire Brightness (Kelvin)')\n",
    "\n",
    "# Add a descriptive title to the plot\n",
    "plt.title('Distribution of Mean Estimated Fire Brightness Across Regions')\n",
    "\n",
    "# Display the plot\n",
    "plt.show()\n"
   ]
  },
  {
   "cell_type": "markdown",
   "id": "46161167-a804-4601-b1b3-394942e7f00d",
   "metadata": {},
   "source": [
    "# Pie Chart of Pixel Counts for Presumed Vegetation Fires Across Regions"
   ]
  },
  {
   "cell_type": "code",
   "execution_count": null,
   "id": "16f3f2eb-b182-49c4-a7ab-b48bb03b575d",
   "metadata": {},
   "outputs": [],
   "source": [
    "import matplotlib.pyplot as plt\n",
    "\n",
    "# Set the figure size for better readability\n",
    "plt.figure(figsize=(10, 6))\n",
    "\n",
    "# Group the data by 'Region' and calculate the total sum of 'Count' for each region\n",
    "region_counts = df.groupby('Region')['Count'].sum()\n",
    "\n",
    "# Create a pie chart:\n",
    "# - Labels are set to the region names (region_counts.index)\n",
    "# - autopct formats the percentage values to 1 decimal place\n",
    "plt.pie(region_counts, labels=region_counts.index, autopct='%1.1f%%')\n",
    "\n",
    "# Add a descriptive title to the plot\n",
    "plt.title('Percentage of Pixels for Presumed Vegetation Fires by Region')\n",
    "\n",
    "# Ensure the pie is a circle, not an oval\n",
    "plt.axis('equal')\n",
    "\n",
    "# Display the pie chart\n",
    "plt.show()"
   ]
  },
  {
   "cell_type": "markdown",
   "id": "79b7055d-0dc2-413c-ac02-8810b260515c",
   "metadata": {},
   "source": [
    "# Pie Chart Without Overlapping Percentages and Custom Legend for Vegetation Fire Pixels"
   ]
  },
  {
   "cell_type": "code",
   "execution_count": null,
   "id": "bb15be53-b59b-41f3-90f5-32251bab14d3",
   "metadata": {},
   "outputs": [],
   "source": [
    "import matplotlib.pyplot as plt\n",
    "\n",
    "# Set the figure size for better visibility\n",
    "plt.figure(figsize=(10, 6))\n",
    "\n",
    "# Group the data by 'Region' and calculate the total pixel count for each region\n",
    "region_counts = df.groupby('Region')['Count'].sum()\n",
    "\n",
    "# Create the pie chart without displaying percentages on the chart directly\n",
    "plt.pie(region_counts, labels=region_counts.index)\n",
    "\n",
    "# Add a descriptive title to the plot\n",
    "plt.title('Percentage of Pixels for Presumed Vegetation Fires by Region')\n",
    "\n",
    "# Add a custom legend with region names and calculated percentages\n",
    "plt.legend(\n",
    "    [(i, round(k / region_counts.sum() * 100, 2)) for i, k in zip(region_counts.index, region_counts)],\n",
    "    title='Region & % Share',\n",
    "    loc='upper right'\n",
    ")\n",
    "\n",
    "# Ensure the pie chart is circular\n",
    "plt.axis('equal')\n",
    "\n",
    "# Display the plot\n",
    "plt.show()"
   ]
  },
  {
   "cell_type": "markdown",
   "id": "d0965470-2f9a-4673-b213-046e2e1b489b",
   "metadata": {},
   "source": [
    "# Histogram of Mean Estimated Fire Brightness"
   ]
  },
  {
   "cell_type": "code",
   "execution_count": null,
   "id": "e4b5af66-90ff-415d-b4eb-0f8d9546819d",
   "metadata": {},
   "outputs": [],
   "source": [
    "import matplotlib.pyplot as plt\n",
    "\n",
    "# Set the figure size for better visualization\n",
    "plt.figure(figsize=(10, 6))\n",
    "\n",
    "# Create a histogram of the 'Mean_estimated_fire_brightness' column\n",
    "plt.hist(df['Mean_estimated_fire_brightness'], bins=30, color='orange', edgecolor='black')\n",
    "\n",
    "# Label the x-axis\n",
    "plt.xlabel('Mean Estimated Fire Brightness (Kelvin)')\n",
    "\n",
    "# Label the y-axis\n",
    "plt.ylabel('Frequency')\n",
    "\n",
    "# Add a descriptive title to the histogram\n",
    "plt.title('Distribution of Mean Estimated Fire Brightness')\n",
    "\n",
    "# Display the histogram\n",
    "plt.show()"
   ]
  },
  {
   "cell_type": "markdown",
   "id": "62df26a4-4fff-434c-84f8-7dbcc903494a",
   "metadata": {},
   "source": [
    "# Stacked Histogram of Mean Estimated Fire Brightness Across Regions"
   ]
  },
  {
   "cell_type": "code",
   "execution_count": null,
   "id": "ead24270-cfcb-41f4-b631-9e4c9e64ecb1",
   "metadata": {},
   "outputs": [],
   "source": [
    "# Set the figure size for clarity\n",
    "plt.figure(figsize=(12, 6))\n",
    "\n",
    "# Create a stacked histogram using seaborn's histplot\n",
    "# - x: the brightness values\n",
    "# - hue: region categories\n",
    "# - multiple='stack': stacks the bars for each region\n",
    "sns.histplot(data=df, x='Mean_estimated_fire_brightness', hue='Region', multiple='stack')\n",
    "\n",
    "# Label the x-axis\n",
    "plt.xlabel('Mean Estimated Fire Brightness (Kelvin)')\n",
    "\n",
    "# Label the y-axis\n",
    "plt.ylabel('Frequency')\n",
    "\n",
    "# Add a descriptive title\n",
    "plt.title('Stacked Distribution of Mean Estimated Fire Brightness Across Regions')\n",
    "\n",
    "# Display the plot\n",
    "plt.show()"
   ]
  },
  {
   "cell_type": "markdown",
   "id": "729039e8-5cc5-4d8d-abbe-ac5501616a44",
   "metadata": {},
   "source": [
    "# Scatter Plot to Analyze Correlation Between Fire Radiative Power and Confidence Level"
   ]
  },
  {
   "cell_type": "code",
   "execution_count": null,
   "id": "b5838ca1-519b-4079-ac83-08e4834814a7",
   "metadata": {},
   "outputs": [],
   "source": [
    "# Set the figure size for better visualization\n",
    "plt.figure(figsize=(8, 6))\n",
    "\n",
    "# Create a scatter plot using seaborn to show relationship between confidence and fire radiative power\n",
    "sns.scatterplot(data=df, x='Mean_confidence', y='Mean_estimated_fire_radiative_power')\n",
    "\n",
    "# Label the x-axis as Mean Confidence\n",
    "plt.xlabel('Mean Confidence')\n",
    "\n",
    "# Label the y-axis as Mean Estimated Fire Radiative Power in Megawatts\n",
    "plt.ylabel('Mean Estimated Fire Radiative Power (MW)')\n",
    "\n",
    "# Add a descriptive title to the scatter plot\n",
    "plt.title('Mean Estimated Fire Radiative Power vs. Mean Confidence')\n",
    "\n",
    "# Display the plot\n",
    "plt.show()"
   ]
  },
  {
   "cell_type": "markdown",
   "id": "e52be126-7fc0-4362-b53a-7f536f0c0127",
   "metadata": {},
   "source": [
    "# Marking the Seven Regions on the Map of Australia Using Folium"
   ]
  },
  {
   "cell_type": "code",
   "execution_count": null,
   "id": "86155d2b-0c76-46c6-b061-c574395a23dc",
   "metadata": {},
   "outputs": [],
   "source": [
    "import folium\n",
    "import pandas as pd\n",
    "\n",
    "# Create a DataFrame containing region names and their coordinates\n",
    "region_data = {\n",
    "    'region': ['NSW', 'QL', 'SA', 'TA', 'VI', 'WA', 'NT'],\n",
    "    'Lat': [-31.8759835, -22.1646782, -30.5343665, -42.035067, -36.5986096, -25.2303005, -19.491411],\n",
    "    'Lon': [147.2869493, 144.5844903, 135.6301212, 146.6366887, 144.6780052, 121.0187246, 132.550964]\n",
    "}\n",
    "reg = pd.DataFrame(region_data)\n",
    "\n",
    "# Create a base map centered on Australia\n",
    "Aus_map = folium.Map(location=[-25, 135], zoom_start=4)\n",
    "\n",
    "# Create a feature group to hold the region markers\n",
    "aus_reg = folium.map.FeatureGroup()\n",
    "\n",
    "# Loop through each region and add a CircleMarker to the map\n",
    "for lat, lng, lab in zip(reg.Lat, reg.Lon, reg.region):\n",
    "    aus_reg.add_child(\n",
    "        folium.features.CircleMarker(\n",
    "            [lat, lng],         # Position of the marker\n",
    "            popup=lab,          # Popup label when clicked\n",
    "            radius=5,           # Size of the marker\n",
    "            color='red',        # Border color\n",
    "            fill=True,          \n",
    "            fill_color='blue',  # Fill color of the marker\n",
    "            fill_opacity=0.6    # Opacity of the fill color\n",
    "        )\n",
    "    )\n",
    "\n",
    "# Add the feature group to the map\n",
    "Aus_map.add_child(aus_reg)\n",
    "\n",
    "# Display the map\n",
    "Aus_map"
   ]
  },
  {
   "cell_type": "code",
   "execution_count": null,
   "id": "f9b7c849-c38c-45cf-b38d-2357746242e5",
   "metadata": {},
   "outputs": [],
   "source": []
  }
 ],
 "metadata": {
  "kernelspec": {
   "display_name": "Python 3 (ipykernel)",
   "language": "python",
   "name": "python3"
  },
  "language_info": {
   "codemirror_mode": {
    "name": "ipython",
    "version": 3
   },
   "file_extension": ".py",
   "mimetype": "text/x-python",
   "name": "python",
   "nbconvert_exporter": "python",
   "pygments_lexer": "ipython3",
   "version": "3.11.7"
  }
 },
 "nbformat": 4,
 "nbformat_minor": 5
}
